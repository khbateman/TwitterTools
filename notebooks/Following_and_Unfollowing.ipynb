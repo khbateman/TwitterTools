{
 "cells": [
  {
   "cell_type": "code",
   "execution_count": null,
   "metadata": {},
   "outputs": [],
   "source": [
    "from TwitterTools import data_tools, flows, crawler\n",
    "import keyring"
   ]
  },
  {
   "cell_type": "markdown",
   "metadata": {},
   "source": [
    "# Setup\n",
    "Before running anything below, run this cell to make sure all data files are initialized.\n",
    "\n",
    "This can be run again in the future and nothing will be deleted. Existing files will be renamed if incorrect to make room for needed file names."
   ]
  },
  {
   "cell_type": "code",
   "execution_count": null,
   "metadata": {},
   "outputs": [],
   "source": [
    "data_tools.setup_data_files()"
   ]
  },
  {
   "cell_type": "markdown",
   "metadata": {},
   "source": [
    "The passwords / API keys will need to be saved for the driver to log in and / or the API calls to work.\n",
    "\n",
    "Uncomment the below lines and run this cell to save your keys and passwords. Then delete that cell so they don't stay in plain text.\n",
    "\n",
    "After deleting that cell, you can update the keys or password using the following - \n",
    "\n",
    "* **Python**: `keyring.set_password(\"system\", \"SOME_KEY\", \"SOME_PASSWORD\")`\n",
    "* **Command Line**: `keyring set system SOME_KEY`\n",
    "    * Then the system will prompt you to type in password\n",
    "\n",
    "To retrieve a password –\n",
    "* **Python**: `keyring.get_password(\"system\", \"SOME_KEY\")`\n",
    "* **Command Line**: `keyring get system SOME_KEY`"
   ]
  },
  {
   "cell_type": "code",
   "execution_count": null,
   "metadata": {},
   "outputs": [],
   "source": [
    "# keyring.set_password(\"system\", \"myhandle_password\", \"SOME_PASSWORD\")"
   ]
  },
  {
   "cell_type": "markdown",
   "metadata": {},
   "source": [
    "After saving that password, update the following fields"
   ]
  },
  {
   "cell_type": "code",
   "execution_count": null,
   "metadata": {},
   "outputs": [],
   "source": [
    "# My Twitter handle / username\n",
    "USERNAME = \"myhandle\" \n",
    "PASSWORD = keyring.get_password(\"system\", \"myhandle_password\")"
   ]
  },
  {
   "cell_type": "markdown",
   "metadata": {},
   "source": [
    "# Running the file\n",
    "Open the driver and log in (if it fails, comment out driver since it's already there and rerun login line...it'll then find the elements)"
   ]
  },
  {
   "cell_type": "code",
   "execution_count": null,
   "metadata": {},
   "outputs": [],
   "source": [
    "driver = flows.create_driver_and_login(username = USERNAME, \n",
    "                                       password = PASSWORD, \n",
    "                                       sleep_time = 3)"
   ]
  },
  {
   "cell_type": "markdown",
   "metadata": {},
   "source": [
    "<div style=\"background-color:rgba(29, 161, 242, 1.0); text-align:center; font-size: 20px; vertical-align: middle; padding:30px 0;\"><span style=\"font-size:30px; font-weight:800\">Note</span><br>Run every cell from here up before running anything below<br>Driver needs to be logged in and running before any crawling activity</div>"
   ]
  },
  {
   "cell_type": "markdown",
   "metadata": {},
   "source": [
    "# Update Following Data\n",
    "Updates following Excel file by scraping Twitter following page"
   ]
  },
  {
   "cell_type": "code",
   "execution_count": null,
   "metadata": {},
   "outputs": [],
   "source": [
    "flows.update_my_following_data(driver, USERNAME)"
   ]
  },
  {
   "cell_type": "markdown",
   "metadata": {},
   "source": [
    "# Unfollowing\n",
    "Display how many accounts are ready to unfollow"
   ]
  },
  {
   "cell_type": "code",
   "execution_count": null,
   "metadata": {},
   "outputs": [],
   "source": [
    "flows.display_unfollow_count(handles_to_skip = [], unfollow_after_days = 7)"
   ]
  },
  {
   "cell_type": "markdown",
   "metadata": {},
   "source": [
    "Open tabs with pausing in between for the accounts that are ready to unfollow\n",
    "    \n",
    "`driver` - logged in driver\n",
    "\n",
    "`number_to_unfollow` - how many tabs will be opened with accounts to unfollow\n",
    "\n",
    "`sleep_between_tabs` - tuple of low / high end of random sleep between opening new tabs\n",
    "\n",
    "`handles_to_skip` - handles that shouldn't be unfollowed even if they meet unfollow criteria\n",
    "\n",
    "`unfollow_after_days` - threshold that after a user has been followed for this many days, they're eligible to unfollow\n"
   ]
  },
  {
   "cell_type": "code",
   "execution_count": null,
   "metadata": {},
   "outputs": [],
   "source": [
    "handles_to_skip = [\"acct1\", \"acct2\", \"important_account\"]\n",
    "\n",
    "crawler.open_tabs_for_unfollowing(driver, \n",
    "                                  number_to_unfollow = 30, \n",
    "                                  sleep_between_tabs=(2, 6),\n",
    "                                  handles_to_skip = handles_to_skip, \n",
    "                                  unfollow_after_days = 7)"
   ]
  },
  {
   "cell_type": "markdown",
   "metadata": {},
   "source": [
    "# Following\n",
    "----\n",
    "#### **Find new accounts to follow**\n",
    "Update data to find new accounts to follow\n",
    "\n",
    "**Note** - This will skip any accounts listed in `accounts_to_skip.xlsx`\n",
    "\n",
    "`users_to_scrape_followers` - list of strings of handles of other accounts you want to scrape followers\n",
    "\n",
    "`search_queries` - list of strings of queries to search for user accounts. Ex - [\"Charlotte, NC\", \"UNC\", ... ]\n",
    "\n",
    "`num_search_query_accounts` - stop after finding this many accounts from a search\n",
    "\n",
    "`terminate_each_search_query_scrape_after_seconds` - stop after a search has gone on for this many seconds\n",
    "\n",
    "`post_urls` - urls of posts to scrape followers from interactions. List of strings. Ex - [\"https://twitter.com/someacct/status/12345534\", \"https://twitter.com/someotheracct000/status/53149314\", ... ]\n",
    "\n",
    "`scrape_post_quotes` - whether to scrape users from post **quotes** for each post in post_urls\n",
    "\n",
    "`scrape_post_reposts` - whether to scrape users from **reposts** for each post in post_urls\n",
    "\n",
    "`scrape_post_likes` - whether to scrape users from **likes** for each post in post_urls"
   ]
  },
  {
   "cell_type": "code",
   "execution_count": null,
   "metadata": {},
   "outputs": [],
   "source": [
    "users_to_scrape = [\"user1\", \"another_handle\", \"handle_3\"]\n",
    "\n",
    "queries = []\n",
    "post_urls = []\n",
    "\n",
    "flows.update_excel_file_with_accounts_to_follow(driver, \n",
    "                                                users_to_scrape_followers = users_to_scrape, \n",
    "                                                search_queries = queries, \n",
    "                                                num_search_query_accounts = 100, \n",
    "                                                terminate_each_search_query_scrape_after_seconds = 500,\n",
    "                                                post_urls = post_urls, \n",
    "                                                scrape_post_quotes = True, \n",
    "                                                scrape_post_reposts = False, \n",
    "                                                scrape_post_likes = False)"
   ]
  },
  {
   "cell_type": "markdown",
   "metadata": {},
   "source": [
    "#### **Open tabs for following**\n",
    "\n",
    "Using saved data, open tabs to follow accounts"
   ]
  },
  {
   "cell_type": "code",
   "execution_count": null,
   "metadata": {},
   "outputs": [],
   "source": [
    "crawler.open_tabs_for_following(driver, num_to_follow = 20, sleep_between_tabs = 7)"
   ]
  }
 ],
 "metadata": {
  "kernelspec": {
   "display_name": "base",
   "language": "python",
   "name": "python3"
  },
  "language_info": {
   "codemirror_mode": {
    "name": "ipython",
    "version": 3
   },
   "file_extension": ".py",
   "mimetype": "text/x-python",
   "name": "python",
   "nbconvert_exporter": "python",
   "pygments_lexer": "ipython3",
   "version": "3.9.7"
  }
 },
 "nbformat": 4,
 "nbformat_minor": 2
}
