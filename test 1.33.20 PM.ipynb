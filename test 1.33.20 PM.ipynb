{
 "cells": [
  {
   "cell_type": "code",
   "execution_count": 7,
   "metadata": {},
   "outputs": [],
   "source": [
    "from TwitterTools import crawler\n",
    "from selenium.webdriver.common.by import By\n",
    "\n",
    "\n",
    "driver = crawler.create_driver()\n",
    "driver.get(\"file://\" + r\"/Users/Kenan/Library/CloudStorage/OneDrive-Personal/Personal Development/Python/TwitterToolsLibrary/tests/Testing_Resources/user_06_not-verified_follows-me_following-them_protected.html\")\n",
    "\n"
   ]
  },
  {
   "cell_type": "code",
   "execution_count": 10,
   "metadata": {},
   "outputs": [
    {
     "data": {
      "text/plain": [
       "'Following'"
      ]
     },
     "execution_count": 10,
     "metadata": {},
     "output_type": "execute_result"
    }
   ],
   "source": [
    "driver.implicitly_wait(0.01)\n",
    "div = driver.find_element(By.XPATH, \"/html/body/div\")\n",
    "# div.find_element(By.CSS_SELECTOR, '''body > div > div > div > div > div > div.css-175oi2r.r-1iusvr4.r-16y2uox > div.css-175oi2r.r-1awozwy.r-18u37iz.r-1wtj0ep > div.css-175oi2r.r-1wbh5a2.r-dnmrzs.r-1ny4l3l > div > div.css-175oi2r.r-1wbh5a2.r-dnmrzs > a > div > div.css-1rynq56.r-bcqeeo.r-qvutc0.r-37j5jr.r-a023e6.r-rjixqe.r-16dba41.r-xoduu5.r-18u37iz.r-1q142lx > span > svg''').get_attribute(\"aria-label\")\n",
    "\n",
    "# div.find_element(By.TAG_NAME, '''svg''').get_attribute(\"aria-label\")\n",
    "\n",
    "# test = div.find_element(By.XPATH, '''.//div/div/div/div/div[2]/div[1]/div[1]/div/div[1]/a/div/div[2]/span/*[1]''')\n",
    "\n",
    "div.find_element(By.XPATH, '''.//div/div/div/div/div[2]/div[1]/div[2]/div/div/span/span''').text\n",
    "\n",
    "div.find_element(By.XPATH, '''.//div/div/div/div/div[2]/div/div[2]/div[1]/div/div/span/span''').text\n",
    "\n",
    "\n"
   ]
  },
  {
   "cell_type": "code",
   "execution_count": null,
   "metadata": {},
   "outputs": [],
   "source": []
  }
 ],
 "metadata": {
  "kernelspec": {
   "display_name": "TwitterToolsLibrary--4BKtZ9Q",
   "language": "python",
   "name": "python3"
  },
  "language_info": {
   "codemirror_mode": {
    "name": "ipython",
    "version": 3
   },
   "file_extension": ".py",
   "mimetype": "text/x-python",
   "name": "python",
   "nbconvert_exporter": "python",
   "pygments_lexer": "ipython3",
   "version": "3.9.9"
  }
 },
 "nbformat": 4,
 "nbformat_minor": 2
}
