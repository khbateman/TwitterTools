{
 "cells": [
  {
   "cell_type": "code",
   "execution_count": 38,
   "metadata": {},
   "outputs": [
    {
     "name": "stdout",
     "output_type": "stream",
     "text": [
      "<html><head></head><body><div data-testid=\"cellInnerDiv\" style=\"transform: translateY(0px); position: absolute; width: 100%;\"><div class=\"css-175oi2r r-1adg3ll r-1ny4l3l\"><div class=\"css-175oi2r\"><div role=\"button\" tabindex=\"0\" class=\"css-175oi2r r-ymttw5 r-1f1sjgu r-1loqt21 r-o7ynqc r-6416eg r-1ny4l3l\" data-testid=\"UserCell\"><div class=\"css-175oi2r r-18u37iz\"><div class=\"css-175oi2r r-18kxxzh r-1b7u577 r-onrtq4 r-1h0z5md\"><div class=\"css-175oi2r r-1wbh5a2 r-dnmrzs\"><div class=\"css-175oi2r r-bztko3 r-1adg3ll r-13qz1uu\" data-testid=\"UserAvatar-Container-CLTgov\" style=\"height: 40px;\"><div class=\"r-1adg3ll r-13qz1uu\" style=\"padding-bottom: 100%;\"></div><div class=\"r-1p0dtai r-1pi2tsx r-u8s1d r-1d2f490 r-ipm5af r-13qz1uu\"><div class=\"css-175oi2r r-1adg3ll r-1pi2tsx r-13qz1uu r-u8s1d r-1wyvozj r-1v2oles r-desppf r-bztko3\"><div class=\"r-1adg3ll r-13qz1uu\" style=\"padding-bottom: 100%;\"></div><div class=\"r-1p0dtai r-1pi2tsx r-u8s1d r-1d2f490 r-ipm5af r-13qz1uu\"></div></div></div></div></div></div></div></div></div></div></div></body></html>\n"
     ]
    }
   ],
   "source": [
    "from TwitterTools import crawler, User\n",
    "from selenium.webdriver.common.by import By\n",
    "import os\n",
    "import time\n",
    "\n",
    "# driver = crawler.create_driver()\n",
    "driver.implicitly_wait(10)\n",
    "with open(os.path.join(\"tests/Testing_Resources/user_14_org_verified.html\")) as f:\n",
    "# with open(os.path.join(\"tests/Testing_Resources/user_15_user_with_emoji_in_name.html\")) as f:\n",
    "    html = f.readlines()[0]\n",
    "    # driver.get(\"data:text/html;charset=utf-8,\" + html)\n",
    "    driver.get(\"data:text/html;charset=utf-8,\" + html)\n",
    "    # time.sleep(5)\n",
    "    div = driver.find_element(By.XPATH, \"/html/body/*\")\n",
    "\n",
    "print(driver.page_source)\n",
    "# print(html)"
   ]
  },
  {
   "cell_type": "code",
   "execution_count": 29,
   "metadata": {},
   "outputs": [
    {
     "name": "stdout",
     "output_type": "stream",
     "text": [
      "<div data-testid=\"cellInnerDiv\" style=\"transform: translateY(0px); position: absolute; width: 100%;\"><div class=\"css-175oi2r r-1adg3ll r-1ny4l3l\"><div class=\"css-175oi2r\"><div role=\"button\" tabindex=\"0\" class=\"css-175oi2r r-ymttw5 r-1f1sjgu r-1loqt21 r-o7ynqc r-6416eg r-1ny4l3l\" data-testid=\"UserCell\"><div class=\"css-175oi2r r-18u37iz\"><div class=\"css-175oi2r r-18kxxzh r-1b7u577 r-onrtq4 r-1h0z5md\"><div class=\"css-175oi2r r-1wbh5a2 r-dnmrzs\"><div class=\"css-175oi2r r-bztko3 r-1adg3ll r-13qz1uu\" data-testid=\"UserAvatar-Container-CLTgov\" style=\"height: 40px;\"><div class=\"r-1adg3ll r-13qz1uu\" style=\"padding-bottom: 100%;\"></div><div class=\"r-1p0dtai r-1pi2tsx r-u8s1d r-1d2f490 r-ipm5af r-13qz1uu\"><div class=\"css-175oi2r r-1adg3ll r-1pi2tsx r-13qz1uu r-u8s1d r-1wyvozj r-1v2oles r-desppf r-bztko3\"><div class=\"r-1adg3ll r-13qz1uu\" style=\"padding-bottom: 100%;\"></div><div class=\"r-1p0dtai r-1pi2tsx r-u8s1d r-1d2f490 r-ipm5af r-13qz1uu\"><div class=\"css-175oi2r r-u8s1d r-ggadg3 r-8jfcpp\" style=\"clip-path: url(&quot;#shape-square&quot;); width: calc(100% + 4px); height: calc(100% + 4px);\"><a href=\"/CLTgov\" aria-hidden=\"true\" role=\"link\" tabindex=\"-1\" class=\"css-175oi2r r-1pi2tsx r-13qz1uu r-o7ynqc r-6416eg r-1ny4l3l r-1loqt21\" style=\"background-color: rgba(0, 0, 0, 0);\"><div class=\"css-175oi2r r-633pao r-u8s1d r-1wyvozj r-1v2oles r-desppf\" style=\"clip-path: url(&quot;#shape-square&quot;); width: calc(100% - 4px); height: calc(100% - 4px);\"><div class=\"css-175oi2r r-1pi2tsx r-13qz1uu\" style=\"background-color: rgba(0, 0, 0, 0);\"></div></div><div class=\"css-175oi2r r-633pao r-u8s1d r-1wyvozj r-1v2oles r-desppf\" style=\"clip-path: url(&quot;#shape-square-rx-16&quot;); width: calc(100% - 4px); height: calc(100% - 4px);\"><div class=\"css-175oi2r r-1pi2tsx r-13qz1uu r-14lw9ot\"></div></div><div class=\"css-175oi2r r-633pao r-u8s1d r-1wyvozj r-1v2oles r-desppf\" style=\"clip-path: url(&quot;#shape-square-rx-16&quot;); background-color: rgb(255, 255, 255); width: calc(100% - 4px); height: calc(100% - 4px);\"><div class=\"css-175oi2r r-1adg3ll r-1udh08x\" style=\"\"><div class=\"r-1adg3ll r-13qz1uu\" style=\"padding-bottom: 100%;\"></div><div class=\"r-1p0dtai r-1pi2tsx r-u8s1d r-1d2f490 r-ipm5af r-13qz1uu\"><div aria-label=\"Square profile picture\" class=\"css-175oi2r r-1mlwlqe r-1udh08x r-417010\" style=\"position: absolute; inset: 0px;\"><div class=\"css-175oi2r r-1niwhzg r-vvn4in r-u6sd8q r-1p0dtai r-1pi2tsx r-1d2f490 r-u8s1d r-zchlnj r-ipm5af r-13qz1uu r-1wyyakw r-4gszlv\" style=\"background-image: url(&quot;https://pbs.twimg.com/profile_images/1713984212456312832/cUfFpsuP_x96.jpg&quot;);\"></div><img alt=\"Square profile picture\" draggable=\"true\" src=\"https://pbs.twimg.com/profile_images/1713984212456312832/cUfFpsuP_x96.jpg\" class=\"css-9pa8cd\"></div></div></div></div><div class=\"css-175oi2r r-u8s1d r-1wyvozj r-1v2oles r-desppf\" style=\"clip-path: url(&quot;#shape-square-rx-16&quot;); width: calc(100% - 4px); height: calc(100% - 4px);\"><div class=\"css-175oi2r r-12181gd r-1pi2tsx r-13qz1uu r-o7ynqc r-6416eg r-1ny4l3l\"></div></div></a></div></div></div></div></div></div></div><div class=\"css-175oi2r r-1iusvr4 r-16y2uox\"><div class=\"css-175oi2r r-1awozwy r-18u37iz r-1wtj0ep\"><div class=\"css-175oi2r r-1wbh5a2 r-dnmrzs r-1ny4l3l\"><div class=\"css-175oi2r r-1wbh5a2 r-dnmrzs r-1ny4l3l\"><div class=\"css-175oi2r r-1wbh5a2 r-dnmrzs\"><a href=\"/CLTgov\" role=\"link\" class=\"css-175oi2r r-1wbh5a2 r-dnmrzs r-1ny4l3l r-1loqt21\"><div class=\"css-175oi2r r-1awozwy r-18u37iz r-dnmrzs\"><div dir=\"ltr\" class=\"css-1rynq56 r-bcqeeo r-qvutc0 r-37j5jr r-a023e6 r-rjixqe r-b88u0q r-1awozwy r-6koalj r-1udh08x r-3s2u2q\" style=\"text-overflow: unset; color: rgb(15, 20, 25);\"><span class=\"css-1qaijid r-dnmrzs r-1udh08x r-3s2u2q r-bcqeeo r-qvutc0 r-poiln3\" style=\"text-overflow: unset;\"><span class=\"css-1qaijid r-bcqeeo r-qvutc0 r-poiln3\" style=\"text-overflow: unset;\">City of Charlotte</span><span class=\"css-1qaijid r-bcqeeo r-qvutc0 r-poiln3 r-1pos5eu\" style=\"text-overflow: unset;\"></span></span></div><div dir=\"ltr\" class=\"css-1rynq56 r-bcqeeo r-qvutc0 r-37j5jr r-a023e6 r-rjixqe r-16dba41 r-xoduu5 r-18u37iz r-1q142lx\" style=\"text-overflow: unset; color: rgb(15, 20, 25);\"><span class=\"css-1qaijid r-bcqeeo r-qvutc0 r-poiln3 r-1awozwy r-xoduu5\" style=\"text-overflow: unset;\"><svg viewBox=\"0 0 22 22\" aria-label=\"Verified account\" role=\"img\" class=\"r-4qtqp9 r-yyyyoo r-1xvli5t r-bnwqim r-1plcrui r-lrvibr r-f9ja8p r-og9te1 r-9cviqr\" data-testid=\"icon-verified\"><g><path clip-rule=\"evenodd\" d=\"M12.05 2.056c-.568-.608-1.532-.608-2.1 0l-1.393 1.49c-.284.303-.685.47-1.1.455L5.42 3.932c-.832-.028-1.514.654-1.486 1.486l.069 2.039c.014.415-.152.816-.456 1.1l-1.49 1.392c-.608.568-.608 1.533 0 2.101l1.49 1.393c.304.284.47.684.456 1.1l-.07 2.038c-.027.832.655 1.514 1.487 1.486l2.038-.069c.415-.014.816.152 1.1.455l1.392 1.49c.569.609 1.533.609 2.102 0l1.393-1.49c.283-.303.684-.47 1.099-.455l2.038.069c.832.028 1.515-.654 1.486-1.486L18 14.542c-.015-.415.152-.815.455-1.099l1.49-1.393c.608-.568.608-1.533 0-2.101l-1.49-1.393c-.303-.283-.47-.684-.455-1.1l.068-2.038c.029-.832-.654-1.514-1.486-1.486l-2.038.07c-.415.013-.816-.153-1.1-.456zm-5.817 9.367l3.429 3.428 5.683-6.206-1.347-1.247-4.4 4.795-2.072-2.072z\" fill=\"#829aab\" fill-rule=\"evenodd\"></path></g></svg></span></div></div></a></div><div class=\"css-175oi2r r-1awozwy r-18u37iz r-1wbh5a2\"><div class=\"css-175oi2r r-1wbh5a2 r-dnmrzs\"><a href=\"/CLTgov\" role=\"link\" tabindex=\"-1\" class=\"css-175oi2r r-1wbh5a2 r-dnmrzs r-1ny4l3l r-1loqt21\"><div class=\"css-175oi2r\"><div dir=\"ltr\" class=\"css-1rynq56 r-dnmrzs r-1udh08x r-3s2u2q r-bcqeeo r-qvutc0 r-37j5jr r-a023e6 r-rjixqe r-16dba41 r-18u37iz r-1wvb978\" style=\"text-overflow: unset; color: rgb(83, 100, 113);\"><span class=\"css-1qaijid r-bcqeeo r-qvutc0 r-poiln3\" style=\"text-overflow: unset;\">@CLTgov</span></div></div></a></div></div></div></div><div class=\"css-175oi2r r-19u6a5r\" style=\"min-width: 0px;\"><div aria-describedby=\"id__nncjwv1zj\" aria-label=\"Follow @CLTgov\" role=\"button\" tabindex=\"0\" class=\"css-175oi2r r-sdzlij r-1phboty r-rs99b7 r-lrvibr r-15ysp7h r-4wgw6l r-ymttw5 r-1loqt21 r-o7ynqc r-6416eg r-1ny4l3l\" data-testid=\"22190469-follow\" style=\"background-color: rgb(15, 20, 25); border-color: rgba(0, 0, 0, 0);\"><div dir=\"ltr\" class=\"css-1rynq56 r-bcqeeo r-qvutc0 r-37j5jr r-q4m81j r-a023e6 r-rjixqe r-b88u0q r-1awozwy r-6koalj r-18u37iz r-16y2uox r-1777fci\" style=\"text-overflow: unset; color: rgb(255, 255, 255);\"><span class=\"css-1qaijid r-dnmrzs r-1udh08x r-3s2u2q r-bcqeeo r-qvutc0 r-poiln3 r-1b43r93 r-1cwl3u0\" style=\"text-overflow: unset;\"><span class=\"css-1qaijid r-bcqeeo r-qvutc0 r-poiln3\" style=\"text-overflow: unset;\">Follow</span></span></div></div></div><div dir=\"auto\" class=\"css-1rynq56\" id=\"id__nncjwv1zj\" style=\"display: none;\">Click to Follow CLTgov</div></div><div dir=\"auto\" class=\"css-1rynq56 r-bcqeeo r-qvutc0 r-37j5jr r-a023e6 r-rjixqe r-16dba41 r-1h8ys4a r-1jeg54m\" style=\"text-overflow: unset; color: rgb(15, 20, 25);\"><span class=\"css-1qaijid r-bcqeeo r-qvutc0 r-poiln3\" style=\"text-overflow: unset;\">Charlotte, NC local government. The Queen City.</span></div></div></div></div></div></div></div>\n"
     ]
    }
   ],
   "source": []
  },
  {
   "cell_type": "code",
   "execution_count": 40,
   "metadata": {},
   "outputs": [],
   "source": [
    "driver.get(\"file://\" + \"Users/Kenan/Library/CloudStorage/OneDrive-Personal/Personal\\ Development/Python/TwitterToolsLibrary/tests/Testing_Resources/user_14_org_verified.html\")"
   ]
  },
  {
   "cell_type": "code",
   "execution_count": null,
   "metadata": {},
   "outputs": [],
   "source": []
  }
 ],
 "metadata": {
  "kernelspec": {
   "display_name": "TwitterToolsLibrary--4BKtZ9Q",
   "language": "python",
   "name": "python3"
  },
  "language_info": {
   "codemirror_mode": {
    "name": "ipython",
    "version": 3
   },
   "file_extension": ".py",
   "mimetype": "text/x-python",
   "name": "python",
   "nbconvert_exporter": "python",
   "pygments_lexer": "ipython3",
   "version": "3.9.9"
  }
 },
 "nbformat": 4,
 "nbformat_minor": 2
}
